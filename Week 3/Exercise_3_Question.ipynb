{
  "nbformat": 4,
  "nbformat_minor": 0,
  "metadata": {
    "colab": {
      "name": "Exercise 3 - Question.ipynb",
      "version": "0.3.2",
      "provenance": [],
      "collapsed_sections": []
    },
    "kernelspec": {
      "name": "python3",
      "display_name": "Python 3"
    },
    "accelerator": "GPU"
  },
  "cells": [
    {
      "metadata": {
        "id": "iQjHqsmTAVLU",
        "colab_type": "text"
      },
      "cell_type": "markdown",
      "source": [
        "## Exercise 3\n",
        "In the videos you looked at how you would improve Fashion MNIST using Convolutions. For your exercise see if you can improve MNIST to 99.8% accuracy or more using only a single convolutional layer and a single MaxPooling 2D. You should stop training once the accuracy goes above this amount. It should happen in less than 20 epochs, so it's ok to hard code the number of epochs for training, but your training must end once it hits the above metric. If it doesn't, then you'll need to redesign your layers.\n",
        "\n",
        "I've started the code for you -- you need to finish it!\n",
        "\n",
        "When 99.8% accuracy has been hit, you should print out the string \"Reached 99.8% accuracy so cancelling training!\"\n"
      ]
    },
    {
      "metadata": {
        "id": "sfQRyaJWAIdg",
        "colab_type": "code",
        "colab": {
          "base_uri": "https://localhost:8080/",
          "height": 513
        },
        "outputId": "7d329bc0-006c-4fa0-eaa4-56a18389a5e0"
      },
      "cell_type": "code",
      "source": [
        "import tensorflow as tf\n",
        "\n",
        "# YOUR CODE STARTS HERE\n",
        "print(tf.__version__)\n",
        "# YOUR CODE ENDS HERE\n",
        "\n",
        "mnist = tf.keras.datasets.mnist\n",
        "(training_images, training_labels), (test_images, test_labels) = mnist.load_data()\n",
        "\n",
        "# YOUR CODE STARTS HERE\n",
        "training_images=training_images.reshape(60000, 28, 28, 1)\n",
        "training_images=training_images / 255.0\n",
        "test_images = test_images.reshape(10000, 28, 28, 1)\n",
        "test_images=test_images/255.0\n",
        "# YOUR CODE ENDS HERE\n",
        "\n",
        "model = tf.keras.models.Sequential([\n",
        "    # YOUR CODE STARTS HERE\n",
        "  tf.keras.layers.Conv2D(32, (3,3), activation='relu', input_shape=(28, 28, 1)),\n",
        "  tf.keras.layers.MaxPooling2D(2, 2),\n",
        "  tf.keras.layers.Conv2D(32, (3,3), activation='relu', input_shape=(28, 28, 1)),\n",
        "  tf.keras.layers.MaxPooling2D(2, 2),\n",
        "  tf.keras.layers.Flatten(),\n",
        "  tf.keras.layers.Dense(128, activation='relu'),\n",
        "  tf.keras.layers.Dense(10, activation='softmax')\n",
        "    # YOUR CODE ENDS HERE\n",
        "])\n",
        "\n",
        "# YOUR CODE STARTS HERE\n",
        "model.compile(optimizer='adam', loss='sparse_categorical_crossentropy', metrics=['accuracy'])\n",
        "model.fit(training_images, training_labels, epochs=10)\n",
        "test_loss, test_acc = model.evaluate(test_images, test_labels)\n",
        "print(test_acc)\n",
        "# YOUR CODE ENDS HERE\n",
        "\n"
      ],
      "execution_count": 1,
      "outputs": [
        {
          "output_type": "stream",
          "text": [
            "1.13.1\n",
            "Downloading data from https://storage.googleapis.com/tensorflow/tf-keras-datasets/mnist.npz\n",
            "11493376/11490434 [==============================] - 0s 0us/step\n",
            "WARNING:tensorflow:From /usr/local/lib/python3.6/dist-packages/tensorflow/python/ops/resource_variable_ops.py:435: colocate_with (from tensorflow.python.framework.ops) is deprecated and will be removed in a future version.\n",
            "Instructions for updating:\n",
            "Colocations handled automatically by placer.\n",
            "Epoch 1/10\n",
            "60000/60000 [==============================] - 16s 260us/sample - loss: 0.1463 - acc: 0.9556\n",
            "Epoch 2/10\n",
            "60000/60000 [==============================] - 13s 216us/sample - loss: 0.0477 - acc: 0.9854\n",
            "Epoch 3/10\n",
            "60000/60000 [==============================] - 13s 222us/sample - loss: 0.0324 - acc: 0.9898\n",
            "Epoch 4/10\n",
            "60000/60000 [==============================] - 13s 215us/sample - loss: 0.0239 - acc: 0.9924\n",
            "Epoch 5/10\n",
            "60000/60000 [==============================] - 13s 214us/sample - loss: 0.0180 - acc: 0.9941\n",
            "Epoch 6/10\n",
            "60000/60000 [==============================] - 13s 215us/sample - loss: 0.0132 - acc: 0.9959\n",
            "Epoch 7/10\n",
            "60000/60000 [==============================] - 13s 215us/sample - loss: 0.0114 - acc: 0.9962\n",
            "Epoch 8/10\n",
            "60000/60000 [==============================] - 13s 210us/sample - loss: 0.0099 - acc: 0.9968\n",
            "Epoch 9/10\n",
            "60000/60000 [==============================] - 12s 208us/sample - loss: 0.0079 - acc: 0.9973\n",
            "Epoch 10/10\n",
            "60000/60000 [==============================] - 12s 208us/sample - loss: 0.0075 - acc: 0.9975\n",
            "10000/10000 [==============================] - 1s 91us/sample - loss: 0.0395 - acc: 0.9887\n",
            "0.9887\n"
          ],
          "name": "stdout"
        }
      ]
    }
  ]
}