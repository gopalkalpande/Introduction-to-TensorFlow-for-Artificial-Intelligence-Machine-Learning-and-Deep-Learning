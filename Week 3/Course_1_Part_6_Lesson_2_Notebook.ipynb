{
  "nbformat": 4,
  "nbformat_minor": 0,
  "metadata": {
    "colab": {
      "name": "Course 1 - Part 6 - Lesson 2 - Notebook.ipynb",
      "version": "0.3.2",
      "provenance": [],
      "collapsed_sections": []
    },
    "kernelspec": {
      "name": "python3",
      "display_name": "Python 3"
    },
    "accelerator": "GPU"
  },
  "cells": [
    {
      "metadata": {
        "id": "R6gHiH-I7uFa",
        "colab_type": "text"
      },
      "cell_type": "markdown",
      "source": [
        "#Improving Computer Vision Accuracy using Convolutions\n",
        "\n",
        "In the previous lessons you saw how to do fashion recognition using a Deep Neural Network (DNN) containing three layers -- the input layer (in the shape of the data), the output layer (in the shape of the desired output) and a hidden layer. You experimented with the impact of different sized of hidden layer, number of training epochs etc on the final accuracy.\n",
        "\n",
        "For convenience, here's the entire code again. Run it and take a note of the test accuracy that is printed out at the end. "
      ]
    },
    {
      "metadata": {
        "id": "xcsRtq9OLorS",
        "colab_type": "code",
        "outputId": "3530cfde-2332-42ea-81a4-78d354616224",
        "colab": {
          "base_uri": "https://localhost:8080/",
          "height": 411
        }
      },
      "cell_type": "code",
      "source": [
        "import tensorflow as tf\n",
        "mnist = tf.keras.datasets.fashion_mnist\n",
        "(training_images, training_labels), (test_images, test_labels) = mnist.load_data()\n",
        "training_images=training_images / 255.0\n",
        "test_images=test_images / 255.0\n",
        "model = tf.keras.models.Sequential([\n",
        "  tf.keras.layers.Flatten(),\n",
        "  tf.keras.layers.Dense(128, activation=tf.nn.relu),\n",
        "  tf.keras.layers.Dense(10, activation=tf.nn.softmax)\n",
        "])\n",
        "model.compile(optimizer='adam', loss='sparse_categorical_crossentropy', metrics=['accuracy'])\n",
        "model.fit(training_images, training_labels, epochs=5)\n",
        "\n",
        "test_loss = model.evaluate(test_images, test_labels)"
      ],
      "execution_count": 1,
      "outputs": [
        {
          "output_type": "stream",
          "text": [
            "Downloading data from https://storage.googleapis.com/tensorflow/tf-keras-datasets/train-labels-idx1-ubyte.gz\n",
            "32768/29515 [=================================] - 0s 0us/step\n",
            "Downloading data from https://storage.googleapis.com/tensorflow/tf-keras-datasets/train-images-idx3-ubyte.gz\n",
            "26427392/26421880 [==============================] - 0s 0us/step\n",
            "Downloading data from https://storage.googleapis.com/tensorflow/tf-keras-datasets/t10k-labels-idx1-ubyte.gz\n",
            "8192/5148 [===============================================] - 0s 0us/step\n",
            "Downloading data from https://storage.googleapis.com/tensorflow/tf-keras-datasets/t10k-images-idx3-ubyte.gz\n",
            "4423680/4422102 [==============================] - 0s 0us/step\n",
            "WARNING:tensorflow:From /usr/local/lib/python3.6/dist-packages/tensorflow/python/ops/resource_variable_ops.py:435: colocate_with (from tensorflow.python.framework.ops) is deprecated and will be removed in a future version.\n",
            "Instructions for updating:\n",
            "Colocations handled automatically by placer.\n",
            "Epoch 1/5\n",
            "60000/60000 [==============================] - 8s 132us/sample - loss: 0.4979 - acc: 0.8265\n",
            "Epoch 2/5\n",
            "60000/60000 [==============================] - 7s 117us/sample - loss: 0.3741 - acc: 0.8655\n",
            "Epoch 3/5\n",
            "60000/60000 [==============================] - 7s 118us/sample - loss: 0.3363 - acc: 0.8776\n",
            "Epoch 4/5\n",
            "60000/60000 [==============================] - 7s 117us/sample - loss: 0.3126 - acc: 0.8870\n",
            "Epoch 5/5\n",
            "60000/60000 [==============================] - 7s 117us/sample - loss: 0.2931 - acc: 0.8918\n",
            "10000/10000 [==============================] - 1s 65us/sample - loss: 0.3532 - acc: 0.8743\n"
          ],
          "name": "stdout"
        }
      ]
    },
    {
      "metadata": {
        "id": "zldEXSsF8Noz",
        "colab_type": "text"
      },
      "cell_type": "markdown",
      "source": [
        "Your accuracy is probably about 89% on training and 87% on validation...not bad...But how do you make that even better? One way is to use something called Convolutions. I'm not going to details on Convolutions here, but the ultimate concept is that they narrow down the content of the image to focus on specific, distinct, details. \n",
        "\n",
        "If you've ever done image processing using a filter (like this: https://en.wikipedia.org/wiki/Kernel_(image_processing)) then convolutions will look very familiar.\n",
        "\n",
        "In short, you take an array (usually 3x3 or 5x5) and pass it over the image. By changing the underlying pixels based on the formula within that matrix, you can do things like edge detection. So, for example, if you look at the above link, you'll see a 3x3 that is defined for edge detection where the middle cell is 8, and all of its neighbors are -1. In this case, for each pixel, you would multiply its value by 8, then subtract the value of each neighbor. Do this for every pixel, and you'll end up with a new image that has the edges enhanced.\n",
        "\n",
        "This is perfect for computer vision, because often it's features that can get highlighted like this that distinguish one item for another, and the amount of information needed is then much less...because you'll just train on the highlighted features.\n",
        "\n",
        "That's the concept of Convolutional Neural Networks. Add some layers to do convolution before you have the dense layers, and then the information going to the dense layers is more focussed, and possibly more accurate.\n",
        "\n",
        "Run the below code -- this is the same neural network as earlier, but this time with Convolutional layers added first. It will take longer, but look at the impact on the accuracy:"
      ]
    },
    {
      "metadata": {
        "id": "C0tFgT1MMKi6",
        "colab_type": "code",
        "outputId": "a86f776d-c883-4d20-f416-0eb15d1a5c90",
        "colab": {
          "base_uri": "https://localhost:8080/",
          "height": 578
        }
      },
      "cell_type": "code",
      "source": [
        "import tensorflow as tf\n",
        "print(tf.__version__)\n",
        "mnist = tf.keras.datasets.fashion_mnist\n",
        "(training_images, training_labels), (test_images, test_labels) = mnist.load_data()\n",
        "training_images=training_images.reshape(60000, 28, 28, 1)\n",
        "training_images=training_images / 255.0\n",
        "test_images = test_images.reshape(10000, 28, 28, 1)\n",
        "test_images=test_images/255.0\n",
        "model = tf.keras.models.Sequential([\n",
        "  tf.keras.layers.Conv2D(64, (3,3), activation='relu', input_shape=(28, 28, 1)),\n",
        "  tf.keras.layers.MaxPooling2D(2, 2),\n",
        "  tf.keras.layers.Conv2D(64, (3,3), activation='relu'),\n",
        "  tf.keras.layers.MaxPooling2D(2,2),\n",
        "  tf.keras.layers.Flatten(),\n",
        "  tf.keras.layers.Dense(128, activation='relu'),\n",
        "  tf.keras.layers.Dense(10, activation='softmax')\n",
        "])\n",
        "model.compile(optimizer='adam', loss='sparse_categorical_crossentropy', metrics=['accuracy'])\n",
        "model.summary()\n",
        "model.fit(training_images, training_labels, epochs=5)\n",
        "test_loss = model.evaluate(test_images, test_labels)\n"
      ],
      "execution_count": 2,
      "outputs": [
        {
          "output_type": "stream",
          "text": [
            "1.13.1\n",
            "_________________________________________________________________\n",
            "Layer (type)                 Output Shape              Param #   \n",
            "=================================================================\n",
            "conv2d (Conv2D)              (None, 26, 26, 64)        640       \n",
            "_________________________________________________________________\n",
            "max_pooling2d (MaxPooling2D) (None, 13, 13, 64)        0         \n",
            "_________________________________________________________________\n",
            "conv2d_1 (Conv2D)            (None, 11, 11, 64)        36928     \n",
            "_________________________________________________________________\n",
            "max_pooling2d_1 (MaxPooling2 (None, 5, 5, 64)          0         \n",
            "_________________________________________________________________\n",
            "flatten_1 (Flatten)          (None, 1600)              0         \n",
            "_________________________________________________________________\n",
            "dense_2 (Dense)              (None, 128)               204928    \n",
            "_________________________________________________________________\n",
            "dense_3 (Dense)              (None, 10)                1290      \n",
            "=================================================================\n",
            "Total params: 243,786\n",
            "Trainable params: 243,786\n",
            "Non-trainable params: 0\n",
            "_________________________________________________________________\n",
            "Epoch 1/5\n",
            "60000/60000 [==============================] - 17s 278us/sample - loss: 0.4365 - acc: 0.8424\n",
            "Epoch 2/5\n",
            "60000/60000 [==============================] - 14s 239us/sample - loss: 0.2955 - acc: 0.8918\n",
            "Epoch 3/5\n",
            "60000/60000 [==============================] - 14s 238us/sample - loss: 0.2517 - acc: 0.9069\n",
            "Epoch 4/5\n",
            "60000/60000 [==============================] - 14s 238us/sample - loss: 0.2175 - acc: 0.9187\n",
            "Epoch 5/5\n",
            "60000/60000 [==============================] - 14s 241us/sample - loss: 0.1909 - acc: 0.9280\n",
            "10000/10000 [==============================] - 1s 110us/sample - loss: 0.2612 - acc: 0.9051\n"
          ],
          "name": "stdout"
        }
      ]
    },
    {
      "metadata": {
        "id": "V7qOzSun1nwH",
        "colab_type": "code",
        "colab": {
          "base_uri": "https://localhost:8080/",
          "height": 34
        },
        "outputId": "8a7586c7-4277-457f-9c75-40ec7c8a3d94"
      },
      "cell_type": "code",
      "source": [
        "test_loss"
      ],
      "execution_count": 3,
      "outputs": [
        {
          "output_type": "execute_result",
          "data": {
            "text/plain": [
              "[0.2612055462360382, 0.9051]"
            ]
          },
          "metadata": {
            "tags": []
          },
          "execution_count": 3
        }
      ]
    },
    {
      "metadata": {
        "id": "uRLfZ0jt-fQI",
        "colab_type": "text"
      },
      "cell_type": "markdown",
      "source": [
        "It's likely gone up to about 93% on the training data and 91% on the validation data. \n",
        "\n",
        "That's significant, and a step in the right direction!\n",
        "\n",
        "Try running it for more epochs -- say about 20, and explore the results! But while the results might seem really good, the validation results may actually go down, due to something called 'overfitting' which will be discussed later. \n",
        "\n",
        "(In a nutshell, 'overfitting' occurs when the network learns the data from the training set really well, but it's too specialised to only that data, and as a result is less effective at seeing *other* data. For example, if all your life you only saw red shoes, then when you see a red shoe you would be very good at identifying it, but blue suade shoes might confuse you...and you know you should never mess with my blue suede shoes.)\n",
        "\n",
        "Then, look at the code again, and see, step by step how the Convolutions were built:"
      ]
    },
    {
      "metadata": {
        "id": "RaLX5cgI_JDb",
        "colab_type": "text"
      },
      "cell_type": "markdown",
      "source": [
        "Step 1 is to gather the data. You'll notice that there's a bit of a change here in that the training data needed to be reshaped. That's because the first convolution expects a single tensor containing everything, so instead of 60,000 28x28x1 items in a list, we have a single 4D list that is 60,000x28x28x1, and the same for the test images. If you don't do this, you'll get an error when training as the Convolutions do not recognize the shape. \n",
        "\n",
        "\n",
        "\n",
        "```\n",
        "import tensorflow as tf\n",
        "mnist = tf.keras.datasets.fashion_mnist\n",
        "(training_images, training_labels), (test_images, test_labels) = mnist.load_data()\n",
        "training_images=training_images.reshape(60000, 28, 28, 1)\n",
        "training_images=training_images / 255.0\n",
        "test_images = test_images.reshape(10000, 28, 28, 1)\n",
        "test_images=test_images/255.0\n",
        "```\n",
        "\n"
      ]
    },
    {
      "metadata": {
        "id": "SS_W_INc_kJQ",
        "colab_type": "text"
      },
      "cell_type": "markdown",
      "source": [
        "Next is to define your model. Now instead of the input layer at the top, you're going to add a Convolution. The parameters are:\n",
        "\n",
        "1. The number of convolutions you want to generate. Purely arbitrary, but good to start with something in the order of 32\n",
        "2. The size of the Convolution, in this case a 3x3 grid\n",
        "3. The activation function to use -- in this case we'll use relu, which you might recall is the equivalent of returning x when x>0, else returning 0\n",
        "4. In the first layer, the shape of the input data.\n",
        "\n",
        "You'll follow the Convolution with a MaxPooling layer which is then designed to compress the image, while maintaining the content of the features that were highlighted by the convlution. By specifying (2,2) for the MaxPooling, the effect is to quarter the size of the image. Without going into too much detail here, the idea is that it creates a 2x2 array of pixels, and picks the biggest one, thus turning 4 pixels into 1. It repeats this across the image, and in so doing halves the number of horizontal, and halves the number of vertical pixels, effectively reducing the image by 25%.\n",
        "\n",
        "You can call model.summary() to see the size and shape of the network, and you'll notice that after every MaxPooling layer, the image size is reduced in this way. \n",
        "\n",
        "\n",
        "```\n",
        "model = tf.keras.models.Sequential([\n",
        "  tf.keras.layers.Conv2D(32, (3,3), activation='relu', input_shape=(28, 28, 1)),\n",
        "  tf.keras.layers.MaxPooling2D(2, 2),\n",
        "```\n",
        "\n"
      ]
    },
    {
      "metadata": {
        "id": "RMorM6daADjA",
        "colab_type": "text"
      },
      "cell_type": "markdown",
      "source": [
        "Add another convolution\n",
        "\n",
        "\n",
        "\n",
        "```\n",
        "  tf.keras.layers.Conv2D(64, (3,3), activation='relu'),\n",
        "  tf.keras.layers.MaxPooling2D(2,2)\n",
        "```\n",
        "\n"
      ]
    },
    {
      "metadata": {
        "colab_type": "text",
        "id": "b1-x-kZF4_tC"
      },
      "cell_type": "markdown",
      "source": [
        "Now flatten the output. After this you'll just have the same DNN structure as the non convolutional version\n",
        "\n",
        "```\n",
        "  tf.keras.layers.Flatten(),\n",
        "```\n",
        "\n"
      ]
    },
    {
      "metadata": {
        "id": "qPtqR23uASjX",
        "colab_type": "text"
      },
      "cell_type": "markdown",
      "source": [
        "The same 128 dense layers, and 10 output layers as in the pre-convolution example:\n",
        "\n",
        "\n",
        "\n",
        "```\n",
        "  tf.keras.layers.Dense(128, activation='relu'),\n",
        "  tf.keras.layers.Dense(10, activation='softmax')\n",
        "])\n",
        "```\n",
        "\n"
      ]
    },
    {
      "metadata": {
        "id": "C0GSsjUhAaSj",
        "colab_type": "text"
      },
      "cell_type": "markdown",
      "source": [
        "Now compile the model, call the fit method to do the training, and evaluate the loss and accuracy from the test set.\n",
        "\n",
        "\n",
        "\n",
        "```\n",
        "model.compile(optimizer='adam', loss='sparse_categorical_crossentropy', metrics=['accuracy'])\n",
        "model.fit(training_images, training_labels, epochs=5)\n",
        "test_loss, test_acc = model.evaluate(test_images, test_labels)\n",
        "print(test_acc)\n",
        "```\n",
        "\n",
        "\n"
      ]
    },
    {
      "metadata": {
        "id": "IXx_LX3SAlFs",
        "colab_type": "text"
      },
      "cell_type": "markdown",
      "source": [
        "# Visualizing the Convolutions and Pooling\n",
        "\n",
        "This code will show us the convolutions graphically. The print (test_labels[;100]) shows us the first 100 labels in the test set, and you can see that the ones at index 0, index 23 and index 28 are all the same value (9). They're all shoes. Let's take a look at the result of running the convolution on each, and you'll begin to see common features between them emerge. Now, when the DNN is training on that data, it's working with a lot less, and it's perhaps finding a commonality between shoes based on this convolution/pooling combination."
      ]
    },
    {
      "metadata": {
        "id": "f-6nX4QsOku6",
        "colab_type": "code",
        "outputId": "4fa4f907-0df8-4f84-d396-9c0d98747acf",
        "colab": {
          "base_uri": "https://localhost:8080/",
          "height": 68
        }
      },
      "cell_type": "code",
      "source": [
        "print(test_labels[:100])"
      ],
      "execution_count": 4,
      "outputs": [
        {
          "output_type": "stream",
          "text": [
            "[9 2 1 1 6 1 4 6 5 7 4 5 7 3 4 1 2 4 8 0 2 5 7 9 1 4 6 0 9 3 8 8 3 3 8 0 7\n",
            " 5 7 9 6 1 3 7 6 7 2 1 2 2 4 4 5 8 2 2 8 4 8 0 7 7 8 5 1 1 2 3 9 8 7 0 2 6\n",
            " 2 3 1 2 8 4 1 8 5 9 5 0 3 2 0 6 5 3 6 7 1 8 0 1 4 2]\n"
          ],
          "name": "stdout"
        }
      ]
    },
    {
      "metadata": {
        "id": "9FGsHhv6JvDx",
        "colab_type": "code",
        "outputId": "cb33a516-441e-4735-d2e1-a6affe566954",
        "colab": {
          "base_uri": "https://localhost:8080/",
          "height": 349
        }
      },
      "cell_type": "code",
      "source": [
        "import matplotlib.pyplot as plt\n",
        "f, axarr = plt.subplots(3,4)\n",
        "FIRST_IMAGE=0\n",
        "SECOND_IMAGE=7\n",
        "THIRD_IMAGE=26\n",
        "CONVOLUTION_NUMBER = 5\n",
        "from tensorflow.keras import models\n",
        "layer_outputs = [layer.output for layer in model.layers]\n",
        "activation_model = tf.keras.models.Model(inputs = model.input, outputs = layer_outputs)\n",
        "for x in range(0,4):\n",
        "  f1 = activation_model.predict(test_images[FIRST_IMAGE].reshape(1, 28, 28, 1))[x]\n",
        "  axarr[0,x].imshow(f1[0, : , :, CONVOLUTION_NUMBER], cmap='inferno')\n",
        "  axarr[0,x].grid(False)\n",
        "  f2 = activation_model.predict(test_images[SECOND_IMAGE].reshape(1, 28, 28, 1))[x]\n",
        "  axarr[1,x].imshow(f2[0, : , :, CONVOLUTION_NUMBER], cmap='inferno')\n",
        "  axarr[1,x].grid(False)\n",
        "  f3 = activation_model.predict(test_images[THIRD_IMAGE].reshape(1, 28, 28, 1))[x]\n",
        "  axarr[2,x].imshow(f3[0, : , :, CONVOLUTION_NUMBER], cmap='inferno')\n",
        "  axarr[2,x].grid(False)"
      ],
      "execution_count": 26,
      "outputs": [
        {
          "output_type": "display_data",
          "data": {
            "image/png": "[encoded data removed]",
            "text/plain": [
              "<Figure size 576x396 with 12 Axes>"
            ]
          },
          "metadata": {
            "tags": []
          }
        }
      ]
    },
    {
      "metadata": {
        "id": "8KVPZqgHo5Ux",
        "colab_type": "text"
      },
      "cell_type": "markdown",
      "source": [
        "EXERCISES\n",
        "\n",
        "1. Try editing the convolutions. Change the 32s to either 16 or 64. What impact will this have on accuracy and/or training time.\n",
        "\n",
        "2. Remove the final Convolution. What impact will this have on accuracy or training time?\n",
        "\n",
        "3. How about adding more Convolutions? What impact do you think this will have? Experiment with it.\n",
        "\n",
        "4. Remove all Convolutions but the first. What impact do you think this will have? Experiment with it. \n",
        "\n",
        "5. In the previous lesson you implemented a callback to check on the loss function and to cancel training once it hit a certain amount. See if you can implement that here!"
      ]
    },
    {
      "metadata": {
        "id": "ZpYRidBXpBPM",
        "colab_type": "code",
        "outputId": "ac1fb274-ecce-4e31-fcda-0b7288f5f696",
        "colab": {
          "base_uri": "https://localhost:8080/",
          "height": 442
        }
      },
      "cell_type": "code",
      "source": [
        "import tensorflow as tf\n",
        "print(tf.__version__)\n",
        "mnist = tf.keras.datasets.mnist\n",
        "(training_images, training_labels), (test_images, test_labels) = mnist.load_data()\n",
        "training_images=training_images.reshape(60000, 28, 28, 1)\n",
        "training_images=training_images / 255.0\n",
        "test_images = test_images.reshape(10000, 28, 28, 1)\n",
        "test_images=test_images/255.0\n",
        "model = tf.keras.models.Sequential([\n",
        "  tf.keras.layers.Conv2D(32, (3,3), activation='relu', input_shape=(28, 28, 1)),\n",
        "  tf.keras.layers.MaxPooling2D(2, 2),\n",
        "  tf.keras.layers.Flatten(),\n",
        "  tf.keras.layers.Dense(128, activation='relu'),\n",
        "  tf.keras.layers.Dense(10, activation='softmax')\n",
        "])\n",
        "model.compile(optimizer='adam', loss='sparse_categorical_crossentropy', metrics=['accuracy'])\n",
        "model.fit(training_images, training_labels, epochs=10)\n",
        "test_loss, test_acc = model.evaluate(test_images, test_labels)\n",
        "print(test_acc)"
      ],
      "execution_count": 27,
      "outputs": [
        {
          "output_type": "stream",
          "text": [
            "1.13.1\n",
            "Downloading data from https://storage.googleapis.com/tensorflow/tf-keras-datasets/mnist.npz\n",
            "11493376/11490434 [==============================] - 0s 0us/step\n",
            "Epoch 1/10\n",
            "60000/60000 [==============================] - 11s 184us/sample - loss: 0.1474 - acc: 0.9564\n",
            "Epoch 2/10\n",
            "60000/60000 [==============================] - 11s 182us/sample - loss: 0.0505 - acc: 0.9848\n",
            "Epoch 3/10\n",
            "60000/60000 [==============================] - 11s 181us/sample - loss: 0.0333 - acc: 0.9895\n",
            "Epoch 4/10\n",
            "60000/60000 [==============================] - 11s 181us/sample - loss: 0.0224 - acc: 0.9931\n",
            "Epoch 5/10\n",
            "60000/60000 [==============================] - 11s 182us/sample - loss: 0.0150 - acc: 0.9951\n",
            "Epoch 6/10\n",
            "60000/60000 [==============================] - 11s 181us/sample - loss: 0.0107 - acc: 0.9965\n",
            "Epoch 7/10\n",
            "60000/60000 [==============================] - 11s 181us/sample - loss: 0.0070 - acc: 0.9980\n",
            "Epoch 8/10\n",
            "60000/60000 [==============================] - 11s 181us/sample - loss: 0.0075 - acc: 0.9975\n",
            "Epoch 9/10\n",
            "60000/60000 [==============================] - 11s 182us/sample - loss: 0.0056 - acc: 0.9981\n",
            "Epoch 10/10\n",
            "60000/60000 [==============================] - 11s 181us/sample - loss: 0.0047 - acc: 0.9987\n",
            "10000/10000 [==============================] - 1s 85us/sample - loss: 0.0533 - acc: 0.9886\n",
            "0.9886\n"
          ],
          "name": "stdout"
        }
      ]
    },
    {
      "metadata": {
        "id": "nvZuK8T43nuN",
        "colab_type": "text"
      },
      "cell_type": "markdown",
      "source": [
        "# 1. Try editing the convolutions. Change the 32s to either 16 or 64. What impact will this have on accuracy and/or training time."
      ]
    },
    {
      "metadata": {
        "id": "pnpfDfAm3mTO",
        "colab_type": "code",
        "colab": {
          "base_uri": "https://localhost:8080/",
          "height": 408
        },
        "outputId": "24fdf53b-0be9-4fe0-f329-e70ca68788c0"
      },
      "cell_type": "code",
      "source": [
        "import tensorflow as tf\n",
        "print(tf.__version__)\n",
        "mnist = tf.keras.datasets.mnist\n",
        "(training_images, training_labels), (test_images, test_labels) = mnist.load_data()\n",
        "training_images=training_images.reshape(60000, 28, 28, 1)\n",
        "training_images=training_images / 255.0\n",
        "test_images = test_images.reshape(10000, 28, 28, 1)\n",
        "test_images=test_images/255.0\n",
        "model = tf.keras.models.Sequential([\n",
        "  tf.keras.layers.Conv2D(16, (3,3), activation='relu', input_shape=(28, 28, 1)),\n",
        "  tf.keras.layers.MaxPooling2D(2, 2),\n",
        "  tf.keras.layers.Flatten(),\n",
        "  tf.keras.layers.Dense(128, activation='relu'),\n",
        "  tf.keras.layers.Dense(10, activation='softmax')\n",
        "])\n",
        "model.compile(optimizer='adam', loss='sparse_categorical_crossentropy', metrics=['accuracy'])\n",
        "model.fit(training_images, training_labels, epochs=10)\n",
        "test_loss, test_acc = model.evaluate(test_images, test_labels)\n",
        "print(test_acc)"
      ],
      "execution_count": 28,
      "outputs": [
        {
          "output_type": "stream",
          "text": [
            "1.13.1\n",
            "Epoch 1/10\n",
            "60000/60000 [==============================] - 10s 169us/sample - loss: 0.1782 - acc: 0.9466\n",
            "Epoch 2/10\n",
            "60000/60000 [==============================] - 10s 167us/sample - loss: 0.0576 - acc: 0.9827\n",
            "Epoch 3/10\n",
            "60000/60000 [==============================] - 10s 168us/sample - loss: 0.0379 - acc: 0.9882\n",
            "Epoch 4/10\n",
            "60000/60000 [==============================] - 10s 167us/sample - loss: 0.0252 - acc: 0.9917\n",
            "Epoch 5/10\n",
            "60000/60000 [==============================] - 10s 167us/sample - loss: 0.0175 - acc: 0.9946\n",
            "Epoch 6/10\n",
            "60000/60000 [==============================] - 10s 168us/sample - loss: 0.0130 - acc: 0.9957\n",
            "Epoch 7/10\n",
            "60000/60000 [==============================] - 10s 167us/sample - loss: 0.0098 - acc: 0.9965\n",
            "Epoch 8/10\n",
            "60000/60000 [==============================] - 10s 167us/sample - loss: 0.0071 - acc: 0.9975\n",
            "Epoch 9/10\n",
            "60000/60000 [==============================] - 10s 167us/sample - loss: 0.0064 - acc: 0.9980\n",
            "Epoch 10/10\n",
            "60000/60000 [==============================] - 10s 168us/sample - loss: 0.0054 - acc: 0.9981\n",
            "10000/10000 [==============================] - 1s 80us/sample - loss: 0.0501 - acc: 0.9860\n",
            "0.986\n"
          ],
          "name": "stdout"
        }
      ]
    },
    {
      "metadata": {
        "id": "b9wvAUYy5kM4",
        "colab_type": "code",
        "colab": {
          "base_uri": "https://localhost:8080/",
          "height": 408
        },
        "outputId": "0be84da8-1469-4d14-eedf-8b8fd3cff5ab"
      },
      "cell_type": "code",
      "source": [
        "import tensorflow as tf\n",
        "print(tf.__version__)\n",
        "mnist = tf.keras.datasets.mnist\n",
        "(training_images, training_labels), (test_images, test_labels) = mnist.load_data()\n",
        "training_images=training_images.reshape(60000, 28, 28, 1)\n",
        "training_images=training_images / 255.0\n",
        "test_images = test_images.reshape(10000, 28, 28, 1)\n",
        "test_images=test_images/255.0\n",
        "model = tf.keras.models.Sequential([\n",
        "  tf.keras.layers.Conv2D(64, (3,3), activation='relu', input_shape=(28, 28, 1)),\n",
        "  tf.keras.layers.MaxPooling2D(2, 2),\n",
        "  tf.keras.layers.Flatten(),\n",
        "  tf.keras.layers.Dense(128, activation='relu'),\n",
        "  tf.keras.layers.Dense(10, activation='softmax')\n",
        "])\n",
        "model.compile(optimizer='adam', loss='sparse_categorical_crossentropy', metrics=['accuracy'])\n",
        "model.fit(training_images, training_labels, epochs=10)\n",
        "test_loss, test_acc = model.evaluate(test_images, test_labels)\n",
        "print(test_acc)"
      ],
      "execution_count": 29,
      "outputs": [
        {
          "output_type": "stream",
          "text": [
            "1.13.1\n",
            "Epoch 1/10\n",
            "60000/60000 [==============================] - 13s 218us/sample - loss: 0.1361 - acc: 0.9589\n",
            "Epoch 2/10\n",
            "60000/60000 [==============================] - 13s 215us/sample - loss: 0.0462 - acc: 0.9859\n",
            "Epoch 3/10\n",
            "60000/60000 [==============================] - 13s 214us/sample - loss: 0.0287 - acc: 0.9912\n",
            "Epoch 4/10\n",
            "60000/60000 [==============================] - 13s 211us/sample - loss: 0.0190 - acc: 0.9937\n",
            "Epoch 5/10\n",
            "60000/60000 [==============================] - 13s 209us/sample - loss: 0.0118 - acc: 0.9964\n",
            "Epoch 6/10\n",
            "60000/60000 [==============================] - 13s 209us/sample - loss: 0.0092 - acc: 0.9969\n",
            "Epoch 7/10\n",
            "60000/60000 [==============================] - 13s 210us/sample - loss: 0.0066 - acc: 0.9979\n",
            "Epoch 8/10\n",
            "60000/60000 [==============================] - 13s 211us/sample - loss: 0.0064 - acc: 0.9978\n",
            "Epoch 9/10\n",
            "60000/60000 [==============================] - 13s 209us/sample - loss: 0.0052 - acc: 0.9985\n",
            "Epoch 10/10\n",
            "60000/60000 [==============================] - 13s 209us/sample - loss: 0.0046 - acc: 0.9986\n",
            "10000/10000 [==============================] - 1s 94us/sample - loss: 0.0639 - acc: 0.9852\n",
            "0.9852\n"
          ],
          "name": "stdout"
        }
      ]
    },
    {
      "metadata": {
        "id": "ZRvetLku5nrJ",
        "colab_type": "text"
      },
      "cell_type": "markdown",
      "source": [
        "# The accuracy of the model reduced when number of convolutions changed from 32 to 16 and 64"
      ]
    },
    {
      "metadata": {
        "id": "Fb8ClWyG-NqW",
        "colab_type": "text"
      },
      "cell_type": "markdown",
      "source": [
        "# 2. Remove the final Convolution. What impact will this have on accuracy or training time?"
      ]
    },
    {
      "metadata": {
        "id": "utxpzWhh-Ryt",
        "colab_type": "code",
        "colab": {
          "base_uri": "https://localhost:8080/",
          "height": 408
        },
        "outputId": "99994cd5-7638-40a4-cc2b-5ed9e88be9ea"
      },
      "cell_type": "code",
      "source": [
        "import tensorflow as tf\n",
        "print(tf.__version__)\n",
        "mnist = tf.keras.datasets.mnist\n",
        "(training_images, training_labels), (test_images, test_labels) = mnist.load_data()\n",
        "training_images=training_images.reshape(60000, 28, 28, 1)\n",
        "training_images=training_images / 255.0\n",
        "test_images = test_images.reshape(10000, 28, 28, 1)\n",
        "test_images=test_images/255.0\n",
        "model = tf.keras.models.Sequential([\n",
        "  #tf.keras.layers.Conv2D(32, (3,3), activation='relu', input_shape=(28, 28, 1)),\n",
        "  tf.keras.layers.MaxPooling2D(2, 2),\n",
        "  tf.keras.layers.Flatten(),\n",
        "  tf.keras.layers.Dense(128, activation='relu'),\n",
        "  tf.keras.layers.Dense(10, activation='softmax')\n",
        "])\n",
        "model.compile(optimizer='adam', loss='sparse_categorical_crossentropy', metrics=['accuracy'])\n",
        "model.fit(training_images, training_labels, epochs=10)\n",
        "test_loss, test_acc = model.evaluate(test_images, test_labels)\n",
        "print(test_acc)"
      ],
      "execution_count": 33,
      "outputs": [
        {
          "output_type": "stream",
          "text": [
            "1.13.1\n",
            "Epoch 1/10\n",
            "60000/60000 [==============================] - 7s 124us/sample - loss: 0.3462 - acc: 0.9014\n",
            "Epoch 2/10\n",
            "60000/60000 [==============================] - 7s 123us/sample - loss: 0.1712 - acc: 0.9480\n",
            "Epoch 3/10\n",
            "60000/60000 [==============================] - 7s 123us/sample - loss: 0.1281 - acc: 0.9610\n",
            "Epoch 4/10\n",
            "60000/60000 [==============================] - 7s 123us/sample - loss: 0.1045 - acc: 0.9681\n",
            "Epoch 5/10\n",
            "60000/60000 [==============================] - 7s 123us/sample - loss: 0.0891 - acc: 0.9733\n",
            "Epoch 6/10\n",
            "60000/60000 [==============================] - 7s 122us/sample - loss: 0.0781 - acc: 0.9762\n",
            "Epoch 7/10\n",
            "60000/60000 [==============================] - 7s 122us/sample - loss: 0.0695 - acc: 0.9790\n",
            "Epoch 8/10\n",
            "60000/60000 [==============================] - 7s 123us/sample - loss: 0.0620 - acc: 0.9807\n",
            "Epoch 9/10\n",
            "60000/60000 [==============================] - 7s 123us/sample - loss: 0.0556 - acc: 0.9830\n",
            "Epoch 10/10\n",
            "60000/60000 [==============================] - 8s 128us/sample - loss: 0.0501 - acc: 0.9845\n",
            "10000/10000 [==============================] - 1s 78us/sample - loss: 0.0908 - acc: 0.9728\n",
            "0.9728\n"
          ],
          "name": "stdout"
        }
      ]
    },
    {
      "metadata": {
        "id": "gI7jJb4m-Z19",
        "colab_type": "text"
      },
      "cell_type": "markdown",
      "source": [
        "# Accuracy decreased by 1% on removing convolution layer."
      ]
    },
    {
      "metadata": {
        "id": "-ARCsIt-5oNX",
        "colab_type": "text"
      },
      "cell_type": "markdown",
      "source": [
        "# 3. How about adding more Convolutions? What impact do you think this will have? Experiment with it."
      ]
    },
    {
      "metadata": {
        "id": "xeMeqM6o5sgP",
        "colab_type": "code",
        "colab": {
          "base_uri": "https://localhost:8080/",
          "height": 408
        },
        "outputId": "f16f7fb6-a5ee-4188-e525-a6c49b7981d8"
      },
      "cell_type": "code",
      "source": [
        "import tensorflow as tf\n",
        "print(tf.__version__)\n",
        "mnist = tf.keras.datasets.mnist\n",
        "(training_images, training_labels), (test_images, test_labels) = mnist.load_data()\n",
        "training_images=training_images.reshape(60000, 28, 28, 1)\n",
        "training_images=training_images / 255.0\n",
        "test_images = test_images.reshape(10000, 28, 28, 1)\n",
        "test_images=test_images/255.0\n",
        "model = tf.keras.models.Sequential([\n",
        "  tf.keras.layers.Conv2D(32, (3,3), activation='relu', input_shape=(28, 28, 1)),\n",
        "  tf.keras.layers.MaxPooling2D(2, 2),\n",
        "  tf.keras.layers.Conv2D(32, (3,3), activation='relu', input_shape=(28, 28, 1)),\n",
        "  tf.keras.layers.Flatten(),\n",
        "  tf.keras.layers.Dense(128, activation='relu'),\n",
        "  tf.keras.layers.Dense(10, activation='softmax')\n",
        "])\n",
        "model.compile(optimizer='adam', loss='sparse_categorical_crossentropy', metrics=['accuracy'])\n",
        "model.fit(training_images, training_labels, epochs=10)\n",
        "test_loss, test_acc = model.evaluate(test_images, test_labels)\n",
        "print(test_acc)"
      ],
      "execution_count": 30,
      "outputs": [
        {
          "output_type": "stream",
          "text": [
            "1.13.1\n",
            "Epoch 1/10\n",
            "60000/60000 [==============================] - 13s 209us/sample - loss: 0.1269 - acc: 0.9608\n",
            "Epoch 2/10\n",
            "60000/60000 [==============================] - 12s 206us/sample - loss: 0.0417 - acc: 0.9872\n",
            "Epoch 3/10\n",
            "60000/60000 [==============================] - 12s 206us/sample - loss: 0.0269 - acc: 0.9913\n",
            "Epoch 4/10\n",
            "60000/60000 [==============================] - 12s 205us/sample - loss: 0.0190 - acc: 0.9938\n",
            "Epoch 5/10\n",
            "60000/60000 [==============================] - 12s 205us/sample - loss: 0.0133 - acc: 0.9956\n",
            "Epoch 6/10\n",
            "60000/60000 [==============================] - 12s 206us/sample - loss: 0.0113 - acc: 0.9965\n",
            "Epoch 7/10\n",
            "60000/60000 [==============================] - 12s 206us/sample - loss: 0.0077 - acc: 0.9975\n",
            "Epoch 8/10\n",
            "60000/60000 [==============================] - 12s 206us/sample - loss: 0.0066 - acc: 0.9980\n",
            "Epoch 9/10\n",
            "60000/60000 [==============================] - 12s 206us/sample - loss: 0.0055 - acc: 0.9983\n",
            "Epoch 10/10\n",
            "60000/60000 [==============================] - 12s 206us/sample - loss: 0.0057 - acc: 0.9980\n",
            "10000/10000 [==============================] - 1s 94us/sample - loss: 0.0570 - acc: 0.9882\n",
            "0.9882\n"
          ],
          "name": "stdout"
        }
      ]
    },
    {
      "metadata": {
        "id": "2W6EwJbx7UV7",
        "colab_type": "code",
        "colab": {
          "base_uri": "https://localhost:8080/",
          "height": 408
        },
        "outputId": "42026cdc-83dd-44b8-99a5-2bbc873f48b7"
      },
      "cell_type": "code",
      "source": [
        "import tensorflow as tf\n",
        "print(tf.__version__)\n",
        "mnist = tf.keras.datasets.mnist\n",
        "(training_images, training_labels), (test_images, test_labels) = mnist.load_data()\n",
        "training_images=training_images.reshape(60000, 28, 28, 1)\n",
        "training_images=training_images / 255.0\n",
        "test_images = test_images.reshape(10000, 28, 28, 1)\n",
        "test_images=test_images/255.0\n",
        "model = tf.keras.models.Sequential([\n",
        "  tf.keras.layers.Conv2D(32, (3,3), activation='relu', input_shape=(28, 28, 1)),\n",
        "  tf.keras.layers.MaxPooling2D(2, 2),\n",
        "  tf.keras.layers.Conv2D(32, (3,3), activation='relu', input_shape=(28, 28, 1)),\n",
        "  tf.keras.layers.MaxPooling2D(2, 2),\n",
        "  tf.keras.layers.Flatten(),\n",
        "  tf.keras.layers.Dense(128, activation='relu'),\n",
        "  tf.keras.layers.Dense(10, activation='softmax')\n",
        "])\n",
        "model.compile(optimizer='adam', loss='sparse_categorical_crossentropy', metrics=['accuracy'])\n",
        "model.fit(training_images, training_labels, epochs=10)\n",
        "test_loss, test_acc = model.evaluate(test_images, test_labels)\n",
        "print(test_acc)"
      ],
      "execution_count": 31,
      "outputs": [
        {
          "output_type": "stream",
          "text": [
            "1.13.1\n",
            "Epoch 1/10\n",
            "60000/60000 [==============================] - 12s 197us/sample - loss: 0.1413 - acc: 0.9565\n",
            "Epoch 2/10\n",
            "60000/60000 [==============================] - 12s 194us/sample - loss: 0.0467 - acc: 0.9852\n",
            "Epoch 3/10\n",
            "60000/60000 [==============================] - 12s 193us/sample - loss: 0.0320 - acc: 0.9900\n",
            "Epoch 4/10\n",
            "60000/60000 [==============================] - 12s 194us/sample - loss: 0.0241 - acc: 0.9923\n",
            "Epoch 5/10\n",
            "60000/60000 [==============================] - 12s 194us/sample - loss: 0.0198 - acc: 0.9937\n",
            "Epoch 6/10\n",
            "60000/60000 [==============================] - 12s 193us/sample - loss: 0.0144 - acc: 0.9952\n",
            "Epoch 7/10\n",
            "60000/60000 [==============================] - 12s 192us/sample - loss: 0.0116 - acc: 0.9961\n",
            "Epoch 8/10\n",
            "60000/60000 [==============================] - 12s 193us/sample - loss: 0.0101 - acc: 0.9966\n",
            "Epoch 9/10\n",
            "60000/60000 [==============================] - 12s 195us/sample - loss: 0.0071 - acc: 0.9978\n",
            "Epoch 10/10\n",
            "60000/60000 [==============================] - 12s 193us/sample - loss: 0.0076 - acc: 0.9974\n",
            "10000/10000 [==============================] - 1s 94us/sample - loss: 0.0378 - acc: 0.9907\n",
            "0.9907\n"
          ],
          "name": "stdout"
        }
      ]
    },
    {
      "metadata": {
        "id": "WByZPC9q-8mH",
        "colab_type": "text"
      },
      "cell_type": "markdown",
      "source": [
        "# 4. Remove all Convolutions but the first. What impact do you think this will have? Experiment with it. "
      ]
    },
    {
      "metadata": {
        "id": "oppZn11K-8uu",
        "colab_type": "text"
      },
      "cell_type": "markdown",
      "source": [
        "It will produce the same output as in the code below the Exercise."
      ]
    },
    {
      "metadata": {
        "id": "mvE3KrV675pS",
        "colab_type": "text"
      },
      "cell_type": "markdown",
      "source": [
        "# On adding one more convolution layer the accuracy decreased; but with addition of maxpool layer with convolution layer the accuracy increased."
      ]
    },
    {
      "metadata": {
        "id": "bOZf1OB06pZr",
        "colab_type": "text"
      },
      "cell_type": "markdown",
      "source": [
        "# 5. In the previous lesson you implemented a callback to check on the loss function and to cancel training once it hit a certain amount. See if you can implement that here!"
      ]
    },
    {
      "metadata": {
        "id": "URSlJzEj6prT",
        "colab_type": "code",
        "colab": {
          "base_uri": "https://localhost:8080/",
          "height": 238
        },
        "outputId": "b45c1ddc-63b3-49a0-d475-6c01b2c0e861"
      },
      "cell_type": "code",
      "source": [
        "class myCallback(tf.keras.callbacks.Callback):\n",
        "  def on_epoch_end(self, epoch, logs={}):\n",
        "    if(logs.get('acc')>0.99):\n",
        "      print(\"\\nReached 99% accuracy so cancelling training!\")\n",
        "      self.model.stop_training = True\n",
        "\n",
        "\n",
        "callbacks = myCallback()\n",
        "\n",
        "import tensorflow as tf\n",
        "print(tf.__version__)\n",
        "mnist = tf.keras.datasets.mnist\n",
        "(training_images, training_labels), (test_images, test_labels) = mnist.load_data()\n",
        "training_images=training_images.reshape(60000, 28, 28, 1)\n",
        "training_images=training_images / 255.0\n",
        "test_images = test_images.reshape(10000, 28, 28, 1)\n",
        "test_images=test_images/255.0\n",
        "model = tf.keras.models.Sequential([\n",
        "  tf.keras.layers.Conv2D(32, (3,3), activation='relu', input_shape=(28, 28, 1)),\n",
        "  tf.keras.layers.MaxPooling2D(2, 2),\n",
        "  tf.keras.layers.Conv2D(32, (3,3), activation='relu', input_shape=(28, 28, 1)),\n",
        "  tf.keras.layers.MaxPooling2D(2, 2),\n",
        "  tf.keras.layers.Flatten(),\n",
        "  tf.keras.layers.Dense(128, activation='relu'),\n",
        "  tf.keras.layers.Dense(10, activation='softmax')\n",
        "])\n",
        "model.compile(optimizer='adam', loss='sparse_categorical_crossentropy', metrics=['accuracy'])\n",
        "model.fit(training_images, training_labels, epochs=10, callbacks=[callbacks])\n",
        "test_loss, test_acc = model.evaluate(test_images, test_labels)\n",
        "print(test_acc)"
      ],
      "execution_count": 32,
      "outputs": [
        {
          "output_type": "stream",
          "text": [
            "1.13.1\n",
            "Epoch 1/10\n",
            "60000/60000 [==============================] - 12s 197us/sample - loss: 0.1452 - acc: 0.9560\n",
            "Epoch 2/10\n",
            "60000/60000 [==============================] - 12s 193us/sample - loss: 0.0482 - acc: 0.9852\n",
            "Epoch 3/10\n",
            "60000/60000 [==============================] - 12s 192us/sample - loss: 0.0329 - acc: 0.9896\n",
            "Epoch 4/10\n",
            "59936/60000 [============================>.] - ETA: 0s - loss: 0.0241 - acc: 0.9921\n",
            "Reached 99% accuracy so cancelling training!\n",
            "60000/60000 [==============================] - 11s 191us/sample - loss: 0.0241 - acc: 0.9921\n",
            "10000/10000 [==============================] - 1s 96us/sample - loss: 0.0292 - acc: 0.9910\n",
            "0.991\n"
          ],
          "name": "stdout"
        }
      ]
    }
  ]
}